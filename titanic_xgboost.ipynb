{
  "nbformat": 4,
  "nbformat_minor": 0,
  "metadata": {
    "colab": {
      "name": "titanic-xgboost.ipynb",
      "provenance": [],
      "collapsed_sections": [],
      "toc_visible": true
    },
    "kernelspec": {
      "name": "python3",
      "display_name": "Python 3"
    }
  },
  "cells": [
    {
      "cell_type": "code",
      "metadata": {
        "id": "GMX6042Q01Nr"
      },
      "source": [
        "import pandas  as pd\r\n",
        "import numpy as np\r\n",
        "np.random.seed(23)\r\n",
        "\r\n",
        "from sklearn.model_selection import GridSearchCV\r\n",
        "from sklearn.tree import DecisionTreeClassifier, export_graphviz\r\n",
        "from sklearn.model_selection import train_test_split\r\n",
        "from sklearn.preprocessing import MinMaxScaler\r\n",
        "from sklearn.neighbors import KNeighborsClassifier\r\n",
        "from sklearn.feature_selection import SelectKBest, f_classif\r\n",
        "\r\n",
        "from xgboost import XGBClassifier\r\n",
        "from sklearn.model_selection import RandomizedSearchCV\r\n",
        "\r\n",
        "titanic_df = pd.read_csv('https://raw.githubusercontent.com/Kritsana135/Ml-Final/main/titanic.csv')"
      ],
      "execution_count": 13,
      "outputs": []
    },
    {
      "cell_type": "code",
      "metadata": {
        "colab": {
          "base_uri": "https://localhost:8080/"
        },
        "id": "SyMpuFjD8BA0",
        "outputId": "59c03447-6fb8-4966-9b67-f97903227d29"
      },
      "source": [
        "titanic_df.shape"
      ],
      "execution_count": 14,
      "outputs": [
        {
          "output_type": "execute_result",
          "data": {
            "text/plain": [
              "(891, 12)"
            ]
          },
          "metadata": {
            "tags": []
          },
          "execution_count": 14
        }
      ]
    },
    {
      "cell_type": "code",
      "metadata": {
        "colab": {
          "base_uri": "https://localhost:8080/",
          "height": 255
        },
        "id": "Jb7wUMIH3VV2",
        "outputId": "5a8f1c7b-e4a4-4fa1-b58c-880a80abbc99"
      },
      "source": [
        "titanic_df.head()"
      ],
      "execution_count": 15,
      "outputs": [
        {
          "output_type": "execute_result",
          "data": {
            "text/html": [
              "<div>\n",
              "<style scoped>\n",
              "    .dataframe tbody tr th:only-of-type {\n",
              "        vertical-align: middle;\n",
              "    }\n",
              "\n",
              "    .dataframe tbody tr th {\n",
              "        vertical-align: top;\n",
              "    }\n",
              "\n",
              "    .dataframe thead th {\n",
              "        text-align: right;\n",
              "    }\n",
              "</style>\n",
              "<table border=\"1\" class=\"dataframe\">\n",
              "  <thead>\n",
              "    <tr style=\"text-align: right;\">\n",
              "      <th></th>\n",
              "      <th>PassengerId</th>\n",
              "      <th>Survived</th>\n",
              "      <th>Pclass</th>\n",
              "      <th>Name</th>\n",
              "      <th>Sex</th>\n",
              "      <th>Age</th>\n",
              "      <th>SibSp</th>\n",
              "      <th>Parch</th>\n",
              "      <th>Ticket</th>\n",
              "      <th>Fare</th>\n",
              "      <th>Cabin</th>\n",
              "      <th>Embarked</th>\n",
              "    </tr>\n",
              "  </thead>\n",
              "  <tbody>\n",
              "    <tr>\n",
              "      <th>0</th>\n",
              "      <td>1</td>\n",
              "      <td>0</td>\n",
              "      <td>3</td>\n",
              "      <td>Braund, Mr. Owen Harris</td>\n",
              "      <td>male</td>\n",
              "      <td>22.0</td>\n",
              "      <td>1</td>\n",
              "      <td>0</td>\n",
              "      <td>A/5 21171</td>\n",
              "      <td>7.2500</td>\n",
              "      <td>NaN</td>\n",
              "      <td>S</td>\n",
              "    </tr>\n",
              "    <tr>\n",
              "      <th>1</th>\n",
              "      <td>2</td>\n",
              "      <td>1</td>\n",
              "      <td>1</td>\n",
              "      <td>Cumings, Mrs. John Bradley (Florence Briggs Th...</td>\n",
              "      <td>female</td>\n",
              "      <td>38.0</td>\n",
              "      <td>1</td>\n",
              "      <td>0</td>\n",
              "      <td>PC 17599</td>\n",
              "      <td>71.2833</td>\n",
              "      <td>C85</td>\n",
              "      <td>C</td>\n",
              "    </tr>\n",
              "    <tr>\n",
              "      <th>2</th>\n",
              "      <td>3</td>\n",
              "      <td>1</td>\n",
              "      <td>3</td>\n",
              "      <td>Heikkinen, Miss. Laina</td>\n",
              "      <td>female</td>\n",
              "      <td>26.0</td>\n",
              "      <td>0</td>\n",
              "      <td>0</td>\n",
              "      <td>STON/O2. 3101282</td>\n",
              "      <td>7.9250</td>\n",
              "      <td>NaN</td>\n",
              "      <td>S</td>\n",
              "    </tr>\n",
              "    <tr>\n",
              "      <th>3</th>\n",
              "      <td>4</td>\n",
              "      <td>1</td>\n",
              "      <td>1</td>\n",
              "      <td>Futrelle, Mrs. Jacques Heath (Lily May Peel)</td>\n",
              "      <td>female</td>\n",
              "      <td>35.0</td>\n",
              "      <td>1</td>\n",
              "      <td>0</td>\n",
              "      <td>113803</td>\n",
              "      <td>53.1000</td>\n",
              "      <td>C123</td>\n",
              "      <td>S</td>\n",
              "    </tr>\n",
              "    <tr>\n",
              "      <th>4</th>\n",
              "      <td>5</td>\n",
              "      <td>0</td>\n",
              "      <td>3</td>\n",
              "      <td>Allen, Mr. William Henry</td>\n",
              "      <td>male</td>\n",
              "      <td>35.0</td>\n",
              "      <td>0</td>\n",
              "      <td>0</td>\n",
              "      <td>373450</td>\n",
              "      <td>8.0500</td>\n",
              "      <td>NaN</td>\n",
              "      <td>S</td>\n",
              "    </tr>\n",
              "  </tbody>\n",
              "</table>\n",
              "</div>"
            ],
            "text/plain": [
              "   PassengerId  Survived  Pclass  ...     Fare Cabin  Embarked\n",
              "0            1         0       3  ...   7.2500   NaN         S\n",
              "1            2         1       1  ...  71.2833   C85         C\n",
              "2            3         1       3  ...   7.9250   NaN         S\n",
              "3            4         1       1  ...  53.1000  C123         S\n",
              "4            5         0       3  ...   8.0500   NaN         S\n",
              "\n",
              "[5 rows x 12 columns]"
            ]
          },
          "metadata": {
            "tags": []
          },
          "execution_count": 15
        }
      ]
    },
    {
      "cell_type": "markdown",
      "metadata": {
        "id": "x-D73-Dj1Ylf"
      },
      "source": [
        "# Data Exploration\r\n",
        "    ทำการตรวจสอบข้อมูลก่อนว่ามีลักษณะเป็นอย่างไร มี missing value หรือเปล่า \r\n",
        "    ซึ่งจากการตรวจสอบพบว่ามี Columns\r\n",
        "        - Cabin\r\n",
        "        - Embarked\r\n",
        "        - Age\r\n",
        "\r\n",
        "    มีสอง column ที่ไม่ใช่ตัวเลข คือ Sex และ Embarked"
      ]
    },
    {
      "cell_type": "code",
      "metadata": {
        "colab": {
          "base_uri": "https://localhost:8080/"
        },
        "id": "efQRYGhW14oG",
        "outputId": "377b9469-7c15-43a7-e758-740de4ce07c8"
      },
      "source": [
        "total = titanic_df.isnull().sum().sort_values(ascending=False)\r\n",
        "print(total)"
      ],
      "execution_count": 16,
      "outputs": [
        {
          "output_type": "stream",
          "text": [
            "Cabin          687\n",
            "Age            177\n",
            "Embarked         2\n",
            "Fare             0\n",
            "Ticket           0\n",
            "Parch            0\n",
            "SibSp            0\n",
            "Sex              0\n",
            "Name             0\n",
            "Pclass           0\n",
            "Survived         0\n",
            "PassengerId      0\n",
            "dtype: int64\n"
          ],
          "name": "stdout"
        }
      ]
    },
    {
      "cell_type": "markdown",
      "metadata": {
        "id": "HkRKakzK2ZKU"
      },
      "source": [
        "# Data Cleaning\r\n",
        "    จะทำการ ดรอปข้อมูลที่คิดว่าไม่เกี่ยวข้อง คือ ***PassengerId***, ***Name*** **Ticket** และ ***Cabin*** \r\n",
        "สำหรับ แอทริบิวต์ Cabin(ห้องโดยสาร) นั้นน่าจะมีความสอดคล้องกับแอทริบิวต์ Fare(ค่าโดยสาร) และเนื่องจาก Cabin มี missing value ที่มากเกินไปจึงเลือกใช้  แอทริบิวต์ Fare ซึ่งมี missing value น้อยกว่า"
      ]
    },
    {
      "cell_type": "code",
      "metadata": {
        "id": "hezdRv062bbB"
      },
      "source": [
        "drop_columns = ['Cabin', 'PassengerId', 'Ticket', 'Name']\r\n",
        "titanic_df = titanic_df.drop(drop_columns, axis=1)"
      ],
      "execution_count": 17,
      "outputs": []
    },
    {
      "cell_type": "markdown",
      "metadata": {
        "id": "MRJpPV015hv3"
      },
      "source": [
        "หลังจากนั้นเราจะเติม missing value ใน Columns ต่อไปนี้ ด้วยข้อมูลที่เหลืออยู่ในแต่ละ Column\r\n",
        "* Age ใช้ Mean เพราะข้อมูลเป็นแบบ Interval/Ratio (skewed เล็กน้อย)\r\n",
        "* Embarked ใช้ Mode เพราะข้อมูลเป็นแบบ Nominal"
      ]
    },
    {
      "cell_type": "code",
      "metadata": {
        "id": "SiGGhq9f5hWr"
      },
      "source": [
        "# Fill empty values in age column\r\n",
        "titanic_df['Age'].fillna(titanic_df['Age'].median(), inplace=True)\r\n",
        "# df_test['Age'].fillna(df_test['Age'].median(), inplace=True)\r\n",
        "\r\n",
        "# Fill empty data in embarked column\r\n",
        "titanic_df['Embarked'].fillna(titanic_df['Embarked'].mode()[0], inplace=True)\r\n",
        "# df_test['Embarked'].fillna(df_test['Embarked'].mode()[0], inplace=True)"
      ],
      "execution_count": 18,
      "outputs": []
    },
    {
      "cell_type": "markdown",
      "metadata": {
        "id": "6Jf2icit5tdw"
      },
      "source": [
        "เพื่อที่จะใช้ค่าที่ไม่ใช่ตัวเลขใน knn เราต้องแปลงมาเป็นตัวเลขก่อน"
      ]
    },
    {
      "cell_type": "code",
      "metadata": {
        "id": "S9M9tM4q5vGY",
        "colab": {
          "base_uri": "https://localhost:8080/",
          "height": 204
        },
        "outputId": "1257f177-ed0f-4d23-c782-9e83db562e17"
      },
      "source": [
        "# change non-numerical value to numerical values\r\n",
        "titanic_df['Sex'] = titanic_df['Sex'].map({'female': 0, 'male': 1}).astype(int)\r\n",
        "\r\n",
        "embarked_dummies = pd.get_dummies(titanic_df['Embarked'] ,prefix=\"E\")\r\n",
        "titanic_df = pd.concat([titanic_df, embarked_dummies], axis=1)\r\n",
        "\r\n",
        "#drop Embarked\r\n",
        "titanic_df = titanic_df.drop(['Embarked'], axis=1)\r\n",
        "\r\n",
        "titanic_df.head()"
      ],
      "execution_count": 19,
      "outputs": [
        {
          "output_type": "execute_result",
          "data": {
            "text/html": [
              "<div>\n",
              "<style scoped>\n",
              "    .dataframe tbody tr th:only-of-type {\n",
              "        vertical-align: middle;\n",
              "    }\n",
              "\n",
              "    .dataframe tbody tr th {\n",
              "        vertical-align: top;\n",
              "    }\n",
              "\n",
              "    .dataframe thead th {\n",
              "        text-align: right;\n",
              "    }\n",
              "</style>\n",
              "<table border=\"1\" class=\"dataframe\">\n",
              "  <thead>\n",
              "    <tr style=\"text-align: right;\">\n",
              "      <th></th>\n",
              "      <th>Survived</th>\n",
              "      <th>Pclass</th>\n",
              "      <th>Sex</th>\n",
              "      <th>Age</th>\n",
              "      <th>SibSp</th>\n",
              "      <th>Parch</th>\n",
              "      <th>Fare</th>\n",
              "      <th>E_C</th>\n",
              "      <th>E_Q</th>\n",
              "      <th>E_S</th>\n",
              "    </tr>\n",
              "  </thead>\n",
              "  <tbody>\n",
              "    <tr>\n",
              "      <th>0</th>\n",
              "      <td>0</td>\n",
              "      <td>3</td>\n",
              "      <td>1</td>\n",
              "      <td>22.0</td>\n",
              "      <td>1</td>\n",
              "      <td>0</td>\n",
              "      <td>7.2500</td>\n",
              "      <td>0</td>\n",
              "      <td>0</td>\n",
              "      <td>1</td>\n",
              "    </tr>\n",
              "    <tr>\n",
              "      <th>1</th>\n",
              "      <td>1</td>\n",
              "      <td>1</td>\n",
              "      <td>0</td>\n",
              "      <td>38.0</td>\n",
              "      <td>1</td>\n",
              "      <td>0</td>\n",
              "      <td>71.2833</td>\n",
              "      <td>1</td>\n",
              "      <td>0</td>\n",
              "      <td>0</td>\n",
              "    </tr>\n",
              "    <tr>\n",
              "      <th>2</th>\n",
              "      <td>1</td>\n",
              "      <td>3</td>\n",
              "      <td>0</td>\n",
              "      <td>26.0</td>\n",
              "      <td>0</td>\n",
              "      <td>0</td>\n",
              "      <td>7.9250</td>\n",
              "      <td>0</td>\n",
              "      <td>0</td>\n",
              "      <td>1</td>\n",
              "    </tr>\n",
              "    <tr>\n",
              "      <th>3</th>\n",
              "      <td>1</td>\n",
              "      <td>1</td>\n",
              "      <td>0</td>\n",
              "      <td>35.0</td>\n",
              "      <td>1</td>\n",
              "      <td>0</td>\n",
              "      <td>53.1000</td>\n",
              "      <td>0</td>\n",
              "      <td>0</td>\n",
              "      <td>1</td>\n",
              "    </tr>\n",
              "    <tr>\n",
              "      <th>4</th>\n",
              "      <td>0</td>\n",
              "      <td>3</td>\n",
              "      <td>1</td>\n",
              "      <td>35.0</td>\n",
              "      <td>0</td>\n",
              "      <td>0</td>\n",
              "      <td>8.0500</td>\n",
              "      <td>0</td>\n",
              "      <td>0</td>\n",
              "      <td>1</td>\n",
              "    </tr>\n",
              "  </tbody>\n",
              "</table>\n",
              "</div>"
            ],
            "text/plain": [
              "   Survived  Pclass  Sex   Age  SibSp  Parch     Fare  E_C  E_Q  E_S\n",
              "0         0       3    1  22.0      1      0   7.2500    0    0    1\n",
              "1         1       1    0  38.0      1      0  71.2833    1    0    0\n",
              "2         1       3    0  26.0      0      0   7.9250    0    0    1\n",
              "3         1       1    0  35.0      1      0  53.1000    0    0    1\n",
              "4         0       3    1  35.0      0      0   8.0500    0    0    1"
            ]
          },
          "metadata": {
            "tags": []
          },
          "execution_count": 19
        }
      ]
    },
    {
      "cell_type": "markdown",
      "metadata": {
        "id": "tNkzCWsiMifW"
      },
      "source": [
        "Split Data"
      ]
    },
    {
      "cell_type": "code",
      "metadata": {
        "id": "7bI9ynng6RGG"
      },
      "source": [
        "#split data to train and test\r\n",
        "selected_feature = ['Pclass', 'Sex', 'Age', 'SibSp', 'Parch', 'Fare', 'E_C', 'E_Q', 'E_S']\r\n",
        "target = 'Survived'\r\n",
        "\r\n",
        "y = titanic_df[target]\r\n",
        "X = titanic_df[selected_feature]\r\n",
        "\r\n",
        "X_train, X_test, y_train, y_test = train_test_split(X, y, test_size=0.25,random_state=23)"
      ],
      "execution_count": 20,
      "outputs": []
    },
    {
      "cell_type": "markdown",
      "metadata": {
        "id": "EtvjreOCN0wJ"
      },
      "source": [
        "Train && Test (Defalut parameter)\r\n",
        "- ไม่ Scale  Accuracy =  0.8071748878923767"
      ]
    },
    {
      "cell_type": "code",
      "metadata": {
        "colab": {
          "base_uri": "https://localhost:8080/"
        },
        "id": "YqkRa7N6U6gP",
        "outputId": "f3a4172d-0034-4d2a-d7cb-0afb64571c17"
      },
      "source": [
        "xgb = XGBClassifier()\r\n",
        "xgb.fit(X_train, y_train)\r\n",
        "score = xgb.score(X_test, y_test)\r\n",
        "print(\"Accuracy = \",score)"
      ],
      "execution_count": 21,
      "outputs": [
        {
          "output_type": "stream",
          "text": [
            "Accuracy =  0.8071748878923767\n"
          ],
          "name": "stdout"
        }
      ]
    },
    {
      "cell_type": "markdown",
      "metadata": {
        "id": "aMJYUlx5W88r"
      },
      "source": [
        "Hyperparameter Tuning"
      ]
    },
    {
      "cell_type": "code",
      "metadata": {
        "id": "EXjRzqsXW97i"
      },
      "source": [
        "def tune():\r\n",
        "  # Create the parameter grid: gbm_param_grid \r\n",
        "  gbm_param_grid = {\r\n",
        "      'n_estimators': range(8, 20),\r\n",
        "      'max_depth': range(6, 10),\r\n",
        "      'learning_rate': [.4, .45, .5, .55, .6],\r\n",
        "      'colsample_bytree': [.6, .7, .8, .9, 1]\r\n",
        "  }\r\n",
        "\r\n",
        "  # Instantiate the regressor: gbm\r\n",
        "  gbm = XGBClassifier(n_estimators=10)\r\n",
        "\r\n",
        "  # Perform random search: grid_mse\r\n",
        "  xgb_random = RandomizedSearchCV(param_distributions=gbm_param_grid, \r\n",
        "                                      estimator = gbm, scoring = \"accuracy\", \r\n",
        "                                      verbose = 1, n_iter = 50, cv = 4)\r\n",
        "\r\n",
        "\r\n",
        "  # Fit randomized_mse to the data\r\n",
        "  xgb_random.fit(X_train, y_train)\r\n",
        "\r\n",
        "  # Print the best parameters and lowest RMSE\r\n",
        "  print(\"Best parameters found: \", xgb_random.best_params_)\r\n",
        "  print(\"Best accuracy found: \", xgb_random.best_score_)"
      ],
      "execution_count": 22,
      "outputs": []
    },
    {
      "cell_type": "code",
      "metadata": {
        "colab": {
          "base_uri": "https://localhost:8080/"
        },
        "id": "YQMt3TUKXonp",
        "outputId": "6ccc054f-0064-40b3-bbe3-ca6991f3e9b4"
      },
      "source": [
        "xgb = XGBClassifier(n_estimators=17,max_depth=7,learning_rate=0.4,colsample_bytree=0.7)\r\n",
        "xgb.fit(X_train, y_train)\r\n",
        "score = xgb.score(X_test, y_test)\r\n",
        "print(\"Accuracy = \",score)"
      ],
      "execution_count": 23,
      "outputs": [
        {
          "output_type": "stream",
          "text": [
            "Accuracy =  0.8251121076233184\n"
          ],
          "name": "stdout"
        }
      ]
    },
    {
      "cell_type": "code",
      "metadata": {
        "colab": {
          "base_uri": "https://localhost:8080/"
        },
        "id": "r3ErDYaxcYM8",
        "outputId": "76e06dc4-0fe3-4e84-8537-3bbbe330992f"
      },
      "source": [
        "xgb"
      ],
      "execution_count": 24,
      "outputs": [
        {
          "output_type": "execute_result",
          "data": {
            "text/plain": [
              "XGBClassifier(base_score=0.5, booster='gbtree', colsample_bylevel=1,\n",
              "              colsample_bynode=1, colsample_bytree=0.7, gamma=0,\n",
              "              learning_rate=0.4, max_delta_step=0, max_depth=7,\n",
              "              min_child_weight=1, missing=None, n_estimators=17, n_jobs=1,\n",
              "              nthread=None, objective='binary:logistic', random_state=0,\n",
              "              reg_alpha=0, reg_lambda=1, scale_pos_weight=1, seed=None,\n",
              "              silent=None, subsample=1, verbosity=1)"
            ]
          },
          "metadata": {
            "tags": []
          },
          "execution_count": 24
        }
      ]
    },
    {
      "cell_type": "markdown",
      "metadata": {
        "id": "VydBpW2wYmSy"
      },
      "source": [
        "# Summary\r\n",
        "Accuracy =  0.8251121076233184"
      ]
    }
  ]
}