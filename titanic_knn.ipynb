{
  "nbformat": 4,
  "nbformat_minor": 0,
  "metadata": {
    "colab": {
      "name": "titanic-knn.ipynb",
      "provenance": [],
      "collapsed_sections": [],
      "toc_visible": true
    },
    "kernelspec": {
      "name": "python3",
      "display_name": "Python 3"
    }
  },
  "cells": [
    {
      "cell_type": "code",
      "metadata": {
        "id": "GMX6042Q01Nr"
      },
      "source": [
        "import pandas  as pd\r\n",
        "import numpy as np\r\n",
        "np.random.seed(23)\r\n",
        "\r\n",
        "from sklearn.model_selection import GridSearchCV\r\n",
        "from sklearn.tree import DecisionTreeClassifier, export_graphviz\r\n",
        "from sklearn.model_selection import train_test_split\r\n",
        "from sklearn.preprocessing import MinMaxScaler\r\n",
        "from sklearn.neighbors import KNeighborsClassifier\r\n",
        "from sklearn.feature_selection import SelectKBest, f_classif\r\n",
        "\r\n",
        "titanic_df = pd.read_csv('https://raw.githubusercontent.com/Kritsana135/Ml-Final/main/titanic.csv')"
      ],
      "execution_count": 17,
      "outputs": []
    },
    {
      "cell_type": "code",
      "metadata": {
        "colab": {
          "base_uri": "https://localhost:8080/"
        },
        "id": "SyMpuFjD8BA0",
        "outputId": "9b64afab-8e23-4e7c-99f4-339ba0665e60"
      },
      "source": [
        "titanic_df.shape"
      ],
      "execution_count": 18,
      "outputs": [
        {
          "output_type": "execute_result",
          "data": {
            "text/plain": [
              "(891, 12)"
            ]
          },
          "metadata": {
            "tags": []
          },
          "execution_count": 18
        }
      ]
    },
    {
      "cell_type": "code",
      "metadata": {
        "colab": {
          "base_uri": "https://localhost:8080/",
          "height": 255
        },
        "id": "Jb7wUMIH3VV2",
        "outputId": "62d25af6-f224-4383-caf4-99af7728f9bf"
      },
      "source": [
        "titanic_df.head()"
      ],
      "execution_count": 19,
      "outputs": [
        {
          "output_type": "execute_result",
          "data": {
            "text/html": [
              "<div>\n",
              "<style scoped>\n",
              "    .dataframe tbody tr th:only-of-type {\n",
              "        vertical-align: middle;\n",
              "    }\n",
              "\n",
              "    .dataframe tbody tr th {\n",
              "        vertical-align: top;\n",
              "    }\n",
              "\n",
              "    .dataframe thead th {\n",
              "        text-align: right;\n",
              "    }\n",
              "</style>\n",
              "<table border=\"1\" class=\"dataframe\">\n",
              "  <thead>\n",
              "    <tr style=\"text-align: right;\">\n",
              "      <th></th>\n",
              "      <th>PassengerId</th>\n",
              "      <th>Survived</th>\n",
              "      <th>Pclass</th>\n",
              "      <th>Name</th>\n",
              "      <th>Sex</th>\n",
              "      <th>Age</th>\n",
              "      <th>SibSp</th>\n",
              "      <th>Parch</th>\n",
              "      <th>Ticket</th>\n",
              "      <th>Fare</th>\n",
              "      <th>Cabin</th>\n",
              "      <th>Embarked</th>\n",
              "    </tr>\n",
              "  </thead>\n",
              "  <tbody>\n",
              "    <tr>\n",
              "      <th>0</th>\n",
              "      <td>1</td>\n",
              "      <td>0</td>\n",
              "      <td>3</td>\n",
              "      <td>Braund, Mr. Owen Harris</td>\n",
              "      <td>male</td>\n",
              "      <td>22.0</td>\n",
              "      <td>1</td>\n",
              "      <td>0</td>\n",
              "      <td>A/5 21171</td>\n",
              "      <td>7.2500</td>\n",
              "      <td>NaN</td>\n",
              "      <td>S</td>\n",
              "    </tr>\n",
              "    <tr>\n",
              "      <th>1</th>\n",
              "      <td>2</td>\n",
              "      <td>1</td>\n",
              "      <td>1</td>\n",
              "      <td>Cumings, Mrs. John Bradley (Florence Briggs Th...</td>\n",
              "      <td>female</td>\n",
              "      <td>38.0</td>\n",
              "      <td>1</td>\n",
              "      <td>0</td>\n",
              "      <td>PC 17599</td>\n",
              "      <td>71.2833</td>\n",
              "      <td>C85</td>\n",
              "      <td>C</td>\n",
              "    </tr>\n",
              "    <tr>\n",
              "      <th>2</th>\n",
              "      <td>3</td>\n",
              "      <td>1</td>\n",
              "      <td>3</td>\n",
              "      <td>Heikkinen, Miss. Laina</td>\n",
              "      <td>female</td>\n",
              "      <td>26.0</td>\n",
              "      <td>0</td>\n",
              "      <td>0</td>\n",
              "      <td>STON/O2. 3101282</td>\n",
              "      <td>7.9250</td>\n",
              "      <td>NaN</td>\n",
              "      <td>S</td>\n",
              "    </tr>\n",
              "    <tr>\n",
              "      <th>3</th>\n",
              "      <td>4</td>\n",
              "      <td>1</td>\n",
              "      <td>1</td>\n",
              "      <td>Futrelle, Mrs. Jacques Heath (Lily May Peel)</td>\n",
              "      <td>female</td>\n",
              "      <td>35.0</td>\n",
              "      <td>1</td>\n",
              "      <td>0</td>\n",
              "      <td>113803</td>\n",
              "      <td>53.1000</td>\n",
              "      <td>C123</td>\n",
              "      <td>S</td>\n",
              "    </tr>\n",
              "    <tr>\n",
              "      <th>4</th>\n",
              "      <td>5</td>\n",
              "      <td>0</td>\n",
              "      <td>3</td>\n",
              "      <td>Allen, Mr. William Henry</td>\n",
              "      <td>male</td>\n",
              "      <td>35.0</td>\n",
              "      <td>0</td>\n",
              "      <td>0</td>\n",
              "      <td>373450</td>\n",
              "      <td>8.0500</td>\n",
              "      <td>NaN</td>\n",
              "      <td>S</td>\n",
              "    </tr>\n",
              "  </tbody>\n",
              "</table>\n",
              "</div>"
            ],
            "text/plain": [
              "   PassengerId  Survived  Pclass  ...     Fare Cabin  Embarked\n",
              "0            1         0       3  ...   7.2500   NaN         S\n",
              "1            2         1       1  ...  71.2833   C85         C\n",
              "2            3         1       3  ...   7.9250   NaN         S\n",
              "3            4         1       1  ...  53.1000  C123         S\n",
              "4            5         0       3  ...   8.0500   NaN         S\n",
              "\n",
              "[5 rows x 12 columns]"
            ]
          },
          "metadata": {
            "tags": []
          },
          "execution_count": 19
        }
      ]
    },
    {
      "cell_type": "markdown",
      "metadata": {
        "id": "x-D73-Dj1Ylf"
      },
      "source": [
        "# Data Exploration\r\n",
        "    ทำการตรวจสอบข้อมูลก่อนว่ามีลักษณะเป็นอย่างไร มี missing value หรือเปล่า \r\n",
        "    ซึ่งจากการตรวจสอบพบว่ามี Columns\r\n",
        "        - Cabin\r\n",
        "        - Embarked\r\n",
        "        - Age\r\n",
        "\r\n",
        "    มีสอง column ที่ไม่ใช่ตัวเลข คือ Sex และ Embarked"
      ]
    },
    {
      "cell_type": "code",
      "metadata": {
        "colab": {
          "base_uri": "https://localhost:8080/"
        },
        "id": "efQRYGhW14oG",
        "outputId": "1d366ea1-3838-4ec5-c9c4-599e1fcaa191"
      },
      "source": [
        "total = titanic_df.isnull().sum().sort_values(ascending=False)\r\n",
        "print(total)"
      ],
      "execution_count": 20,
      "outputs": [
        {
          "output_type": "stream",
          "text": [
            "Cabin          687\n",
            "Age            177\n",
            "Embarked         2\n",
            "Fare             0\n",
            "Ticket           0\n",
            "Parch            0\n",
            "SibSp            0\n",
            "Sex              0\n",
            "Name             0\n",
            "Pclass           0\n",
            "Survived         0\n",
            "PassengerId      0\n",
            "dtype: int64\n"
          ],
          "name": "stdout"
        }
      ]
    },
    {
      "cell_type": "markdown",
      "metadata": {
        "id": "HkRKakzK2ZKU"
      },
      "source": [
        "# Data Cleaning\r\n",
        "    จะทำการ ดรอปข้อมูลที่คิดว่าไม่เกี่ยวข้อง คือ ***PassengerId***, ***Name*** **Ticket** และ ***Cabin*** \r\n",
        "สำหรับ แอทริบิวต์ Cabin(ห้องโดยสาร) นั้นน่าจะมีความสอดคล้องกับแอทริบิวต์ Fare(ค่าโดยสาร) และเนื่องจาก Cabin มี missing value ที่มากเกินไปจึงเลือกใช้  แอทริบิวต์ Fare ซึ่งมี missing value น้อยกว่า"
      ]
    },
    {
      "cell_type": "code",
      "metadata": {
        "id": "hezdRv062bbB"
      },
      "source": [
        "drop_columns = ['Cabin', 'PassengerId', 'Ticket', 'Name']\r\n",
        "titanic_df = titanic_df.drop(drop_columns, axis=1)"
      ],
      "execution_count": 21,
      "outputs": []
    },
    {
      "cell_type": "markdown",
      "metadata": {
        "id": "MRJpPV015hv3"
      },
      "source": [
        "หลังจากนั้นเราจะเติม missing value ใน Columns ต่อไปนี้ ด้วยข้อมูลที่เหลืออยู่ในแต่ละ Column\r\n",
        "* Age ใช้ median เพราะข้อมูลเป็นแบบ Interval/Ratio (skewed เล็กน้อย)\r\n",
        "* Embarked ใช้ Mode เพราะข้อมูลเป็นแบบ Nominal"
      ]
    },
    {
      "cell_type": "code",
      "metadata": {
        "id": "SiGGhq9f5hWr"
      },
      "source": [
        "# Fill empty values in age column\r\n",
        "titanic_df['Age'].fillna(titanic_df['Age'].median(), inplace=True)\r\n",
        "# df_test['Age'].fillna(df_test['Age'].median(), inplace=True)\r\n",
        "\r\n",
        "# Fill empty data in embarked column\r\n",
        "titanic_df['Embarked'].fillna(titanic_df['Embarked'].mode()[0], inplace=True)\r\n",
        "# df_test['Embarked'].fillna(df_test['Embarked'].mode()[0], inplace=True)"
      ],
      "execution_count": 22,
      "outputs": []
    },
    {
      "cell_type": "markdown",
      "metadata": {
        "id": "6Jf2icit5tdw"
      },
      "source": [
        "เพื่อที่จะใช้ค่าที่ไม่ใช่ตัวเลขใน knn เราต้องแปลงมาเป็นตัวเลขก่อน"
      ]
    },
    {
      "cell_type": "code",
      "metadata": {
        "id": "S9M9tM4q5vGY",
        "colab": {
          "base_uri": "https://localhost:8080/",
          "height": 204
        },
        "outputId": "10c2ea87-1d40-4078-99c6-674927953f1f"
      },
      "source": [
        "# change non-numerical value to numerical values\r\n",
        "titanic_df['Sex'] = titanic_df['Sex'].map({'female': 0, 'male': 1}).astype(int)\r\n",
        "\r\n",
        "embarked_dummies = pd.get_dummies(titanic_df['Embarked'] ,prefix=\"E\")\r\n",
        "titanic_df = pd.concat([titanic_df, embarked_dummies], axis=1)\r\n",
        "\r\n",
        "#drop Embarked\r\n",
        "titanic_df = titanic_df.drop(['Embarked'], axis=1)\r\n",
        "\r\n",
        "titanic_df.head()"
      ],
      "execution_count": 23,
      "outputs": [
        {
          "output_type": "execute_result",
          "data": {
            "text/html": [
              "<div>\n",
              "<style scoped>\n",
              "    .dataframe tbody tr th:only-of-type {\n",
              "        vertical-align: middle;\n",
              "    }\n",
              "\n",
              "    .dataframe tbody tr th {\n",
              "        vertical-align: top;\n",
              "    }\n",
              "\n",
              "    .dataframe thead th {\n",
              "        text-align: right;\n",
              "    }\n",
              "</style>\n",
              "<table border=\"1\" class=\"dataframe\">\n",
              "  <thead>\n",
              "    <tr style=\"text-align: right;\">\n",
              "      <th></th>\n",
              "      <th>Survived</th>\n",
              "      <th>Pclass</th>\n",
              "      <th>Sex</th>\n",
              "      <th>Age</th>\n",
              "      <th>SibSp</th>\n",
              "      <th>Parch</th>\n",
              "      <th>Fare</th>\n",
              "      <th>E_C</th>\n",
              "      <th>E_Q</th>\n",
              "      <th>E_S</th>\n",
              "    </tr>\n",
              "  </thead>\n",
              "  <tbody>\n",
              "    <tr>\n",
              "      <th>0</th>\n",
              "      <td>0</td>\n",
              "      <td>3</td>\n",
              "      <td>1</td>\n",
              "      <td>22.0</td>\n",
              "      <td>1</td>\n",
              "      <td>0</td>\n",
              "      <td>7.2500</td>\n",
              "      <td>0</td>\n",
              "      <td>0</td>\n",
              "      <td>1</td>\n",
              "    </tr>\n",
              "    <tr>\n",
              "      <th>1</th>\n",
              "      <td>1</td>\n",
              "      <td>1</td>\n",
              "      <td>0</td>\n",
              "      <td>38.0</td>\n",
              "      <td>1</td>\n",
              "      <td>0</td>\n",
              "      <td>71.2833</td>\n",
              "      <td>1</td>\n",
              "      <td>0</td>\n",
              "      <td>0</td>\n",
              "    </tr>\n",
              "    <tr>\n",
              "      <th>2</th>\n",
              "      <td>1</td>\n",
              "      <td>3</td>\n",
              "      <td>0</td>\n",
              "      <td>26.0</td>\n",
              "      <td>0</td>\n",
              "      <td>0</td>\n",
              "      <td>7.9250</td>\n",
              "      <td>0</td>\n",
              "      <td>0</td>\n",
              "      <td>1</td>\n",
              "    </tr>\n",
              "    <tr>\n",
              "      <th>3</th>\n",
              "      <td>1</td>\n",
              "      <td>1</td>\n",
              "      <td>0</td>\n",
              "      <td>35.0</td>\n",
              "      <td>1</td>\n",
              "      <td>0</td>\n",
              "      <td>53.1000</td>\n",
              "      <td>0</td>\n",
              "      <td>0</td>\n",
              "      <td>1</td>\n",
              "    </tr>\n",
              "    <tr>\n",
              "      <th>4</th>\n",
              "      <td>0</td>\n",
              "      <td>3</td>\n",
              "      <td>1</td>\n",
              "      <td>35.0</td>\n",
              "      <td>0</td>\n",
              "      <td>0</td>\n",
              "      <td>8.0500</td>\n",
              "      <td>0</td>\n",
              "      <td>0</td>\n",
              "      <td>1</td>\n",
              "    </tr>\n",
              "  </tbody>\n",
              "</table>\n",
              "</div>"
            ],
            "text/plain": [
              "   Survived  Pclass  Sex   Age  SibSp  Parch     Fare  E_C  E_Q  E_S\n",
              "0         0       3    1  22.0      1      0   7.2500    0    0    1\n",
              "1         1       1    0  38.0      1      0  71.2833    1    0    0\n",
              "2         1       3    0  26.0      0      0   7.9250    0    0    1\n",
              "3         1       1    0  35.0      1      0  53.1000    0    0    1\n",
              "4         0       3    1  35.0      0      0   8.0500    0    0    1"
            ]
          },
          "metadata": {
            "tags": []
          },
          "execution_count": 23
        }
      ]
    },
    {
      "cell_type": "markdown",
      "metadata": {
        "id": "DWCWduxRMM43"
      },
      "source": [
        "Normalization"
      ]
    },
    {
      "cell_type": "code",
      "metadata": {
        "colab": {
          "base_uri": "https://localhost:8080/",
          "height": 204
        },
        "id": "M1YpdTUHMMal",
        "outputId": "f1c4a10d-8fa6-4e2c-cd38-ec0204d40551"
      },
      "source": [
        "scaler = MinMaxScaler()\r\n",
        "titanic_normalized = pd.DataFrame(scaler.fit_transform(titanic_df), columns = titanic_df.columns)\r\n",
        "titanic_normalized.head()"
      ],
      "execution_count": 24,
      "outputs": [
        {
          "output_type": "execute_result",
          "data": {
            "text/html": [
              "<div>\n",
              "<style scoped>\n",
              "    .dataframe tbody tr th:only-of-type {\n",
              "        vertical-align: middle;\n",
              "    }\n",
              "\n",
              "    .dataframe tbody tr th {\n",
              "        vertical-align: top;\n",
              "    }\n",
              "\n",
              "    .dataframe thead th {\n",
              "        text-align: right;\n",
              "    }\n",
              "</style>\n",
              "<table border=\"1\" class=\"dataframe\">\n",
              "  <thead>\n",
              "    <tr style=\"text-align: right;\">\n",
              "      <th></th>\n",
              "      <th>Survived</th>\n",
              "      <th>Pclass</th>\n",
              "      <th>Sex</th>\n",
              "      <th>Age</th>\n",
              "      <th>SibSp</th>\n",
              "      <th>Parch</th>\n",
              "      <th>Fare</th>\n",
              "      <th>E_C</th>\n",
              "      <th>E_Q</th>\n",
              "      <th>E_S</th>\n",
              "    </tr>\n",
              "  </thead>\n",
              "  <tbody>\n",
              "    <tr>\n",
              "      <th>0</th>\n",
              "      <td>0.0</td>\n",
              "      <td>1.0</td>\n",
              "      <td>1.0</td>\n",
              "      <td>0.271174</td>\n",
              "      <td>0.125</td>\n",
              "      <td>0.0</td>\n",
              "      <td>0.014151</td>\n",
              "      <td>0.0</td>\n",
              "      <td>0.0</td>\n",
              "      <td>1.0</td>\n",
              "    </tr>\n",
              "    <tr>\n",
              "      <th>1</th>\n",
              "      <td>1.0</td>\n",
              "      <td>0.0</td>\n",
              "      <td>0.0</td>\n",
              "      <td>0.472229</td>\n",
              "      <td>0.125</td>\n",
              "      <td>0.0</td>\n",
              "      <td>0.139136</td>\n",
              "      <td>1.0</td>\n",
              "      <td>0.0</td>\n",
              "      <td>0.0</td>\n",
              "    </tr>\n",
              "    <tr>\n",
              "      <th>2</th>\n",
              "      <td>1.0</td>\n",
              "      <td>1.0</td>\n",
              "      <td>0.0</td>\n",
              "      <td>0.321438</td>\n",
              "      <td>0.000</td>\n",
              "      <td>0.0</td>\n",
              "      <td>0.015469</td>\n",
              "      <td>0.0</td>\n",
              "      <td>0.0</td>\n",
              "      <td>1.0</td>\n",
              "    </tr>\n",
              "    <tr>\n",
              "      <th>3</th>\n",
              "      <td>1.0</td>\n",
              "      <td>0.0</td>\n",
              "      <td>0.0</td>\n",
              "      <td>0.434531</td>\n",
              "      <td>0.125</td>\n",
              "      <td>0.0</td>\n",
              "      <td>0.103644</td>\n",
              "      <td>0.0</td>\n",
              "      <td>0.0</td>\n",
              "      <td>1.0</td>\n",
              "    </tr>\n",
              "    <tr>\n",
              "      <th>4</th>\n",
              "      <td>0.0</td>\n",
              "      <td>1.0</td>\n",
              "      <td>1.0</td>\n",
              "      <td>0.434531</td>\n",
              "      <td>0.000</td>\n",
              "      <td>0.0</td>\n",
              "      <td>0.015713</td>\n",
              "      <td>0.0</td>\n",
              "      <td>0.0</td>\n",
              "      <td>1.0</td>\n",
              "    </tr>\n",
              "  </tbody>\n",
              "</table>\n",
              "</div>"
            ],
            "text/plain": [
              "   Survived  Pclass  Sex       Age  SibSp  Parch      Fare  E_C  E_Q  E_S\n",
              "0       0.0     1.0  1.0  0.271174  0.125    0.0  0.014151  0.0  0.0  1.0\n",
              "1       1.0     0.0  0.0  0.472229  0.125    0.0  0.139136  1.0  0.0  0.0\n",
              "2       1.0     1.0  0.0  0.321438  0.000    0.0  0.015469  0.0  0.0  1.0\n",
              "3       1.0     0.0  0.0  0.434531  0.125    0.0  0.103644  0.0  0.0  1.0\n",
              "4       0.0     1.0  1.0  0.434531  0.000    0.0  0.015713  0.0  0.0  1.0"
            ]
          },
          "metadata": {
            "tags": []
          },
          "execution_count": 24
        }
      ]
    },
    {
      "cell_type": "markdown",
      "metadata": {
        "id": "tNkzCWsiMifW"
      },
      "source": [
        "Split Data"
      ]
    },
    {
      "cell_type": "code",
      "metadata": {
        "id": "7bI9ynng6RGG"
      },
      "source": [
        "#split data to train and test\r\n",
        "selected_feature = ['Pclass', 'Sex', 'Age', 'SibSp', 'Parch', 'Fare', 'E_C', 'E_Q', 'E_S']\r\n",
        "target = 'Survived'\r\n",
        "\r\n",
        "y = titanic_normalized[target]\r\n",
        "X = titanic_normalized[selected_feature]\r\n",
        "\r\n",
        "X_train, X_test, y_train, y_test = train_test_split(X, y, test_size=0.25,random_state=23)"
      ],
      "execution_count": 25,
      "outputs": []
    },
    {
      "cell_type": "markdown",
      "metadata": {
        "id": "EtvjreOCN0wJ"
      },
      "source": [
        "Train && Test (Defalut parameter)\r\n",
        "- ไม่ Scale  Accuracy =  0.7309417040358744\r\n",
        "- Scale      Accuracy =  0.7937219730941704"
      ]
    },
    {
      "cell_type": "code",
      "metadata": {
        "colab": {
          "base_uri": "https://localhost:8080/"
        },
        "id": "gTpHUnph6dcZ",
        "outputId": "ebf2cb14-e620-4962-da68-52132250ba67"
      },
      "source": [
        "knn = KNeighborsClassifier()\r\n",
        "knn.fit(X_train,y_train)\r\n",
        "score = knn.score(X_test,y_test)\r\n",
        "print(\"Accuracy = \",score)"
      ],
      "execution_count": 26,
      "outputs": [
        {
          "output_type": "stream",
          "text": [
            "Accuracy =  0.7937219730941704\n"
          ],
          "name": "stdout"
        }
      ]
    },
    {
      "cell_type": "markdown",
      "metadata": {
        "id": "7YgXduemOUw3"
      },
      "source": [
        "Feature selection - SelectKBest"
      ]
    },
    {
      "cell_type": "code",
      "metadata": {
        "id": "WYsuWOTmOVcG"
      },
      "source": [
        "def selected_feature(n_k):\r\n",
        "  kbest_feats= SelectKBest(f_classif, k=n_k)\r\n",
        "\r\n",
        "  #get top 5 best features\r\n",
        "  x_train_kbest= kbest_feats.fit_transform(X_train, y_train)\r\n",
        "  selected_feats_kbest= pd.DataFrame(kbest_feats.inverse_transform(x_train_kbest), index= X_train.index, columns= X_train.columns)\r\n",
        "  selected_cols_kbest= selected_feats_kbest.columns[selected_feats_kbest.var() != 0]\r\n",
        "\r\n",
        "  #get development set that has the top 5 features\r\n",
        "  x_devel_kbest= X_test[selected_cols_kbest]\r\n",
        "\r\n",
        "  return selected_cols_kbest"
      ],
      "execution_count": 27,
      "outputs": []
    },
    {
      "cell_type": "code",
      "metadata": {
        "colab": {
          "base_uri": "https://localhost:8080/"
        },
        "id": "xDKGCZTyOtCk",
        "outputId": "e7ca35cd-90d2-43cb-a31a-ba738a8edc39"
      },
      "source": [
        "def brute_select():\r\n",
        "  for num_f in range(9):\r\n",
        "    feature = selected_feature(num_f+1)\r\n",
        "    X_train_t = X_train[feature]\r\n",
        "    X_test_t = X_test[feature]\r\n",
        "    knn.fit(X_train_t,y_train)\r\n",
        "    score = knn.score(X_test_t,y_test)\r\n",
        "    print(\"Accuracy = \",score)\r\n",
        "\r\n",
        "brute_select()"
      ],
      "execution_count": 28,
      "outputs": [
        {
          "output_type": "stream",
          "text": [
            "Accuracy =  0.7982062780269058\n",
            "Accuracy =  0.7937219730941704\n",
            "Accuracy =  0.8071748878923767\n",
            "Accuracy =  0.7937219730941704\n",
            "Accuracy =  0.8026905829596412\n",
            "Accuracy =  0.7892376681614349\n",
            "Accuracy =  0.8071748878923767\n",
            "Accuracy =  0.7937219730941704\n",
            "Accuracy =  0.7937219730941704\n"
          ],
          "name": "stdout"
        }
      ]
    },
    {
      "cell_type": "markdown",
      "metadata": {
        "id": "K7AOd8soRPVX"
      },
      "source": [
        "ผลไม่ต่างกันเยอะ เลยใช้ feature ทั้งหมดน่าจะดีกว่า"
      ]
    },
    {
      "cell_type": "markdown",
      "metadata": {
        "id": "EoxzGhnzRVdA"
      },
      "source": [
        "Hyperparameter Tuning"
      ]
    },
    {
      "cell_type": "code",
      "metadata": {
        "id": "EVYeXE0fRgs_"
      },
      "source": [
        "def tune(X_in,y_in):\r\n",
        "  #List Hyperparameters that we want to tune.\r\n",
        "  leaf_size = list(range(1,50))\r\n",
        "  n_neighbors = list(range(1,30))\r\n",
        "  p=[1,2]\r\n",
        "  #Convert to dictionary\r\n",
        "  hyperparameters = dict(leaf_size=leaf_size, n_neighbors=n_neighbors, p=p)\r\n",
        "  #Create new KNN object\r\n",
        "  knn_2 = KNeighborsClassifier()\r\n",
        "  #Use GridSearch\r\n",
        "  clf = GridSearchCV(knn_2, hyperparameters, cv=10)\r\n",
        "  #Fit the model\r\n",
        "  best_model = clf.fit(X_in,y_in)\r\n",
        "  #Print The value of best Hyperparameters\r\n",
        "  print('Best leaf_size:', best_model.best_estimator_.get_params()['leaf_size'])\r\n",
        "  print('Best p:', best_model.best_estimator_.get_params()['p'])\r\n",
        "  print('Best n_neighbors:', best_model.best_estimator_.get_params()['n_neighbors'])\r\n",
        "\r\n",
        "\r\n",
        "# tune(X,y) "
      ],
      "execution_count": 29,
      "outputs": []
    },
    {
      "cell_type": "markdown",
      "metadata": {
        "id": "pb_Ny8c4Sf0z"
      },
      "source": [
        "Best leaf_size: 1\r\n",
        "Best p: 2\r\n",
        "Best n_neighbors: 28"
      ]
    },
    {
      "cell_type": "code",
      "metadata": {
        "colab": {
          "base_uri": "https://localhost:8080/"
        },
        "id": "A5w7LJu0ShuW",
        "outputId": "2ad5ee91-f676-4249-eb2f-694ea9ac9494"
      },
      "source": [
        "knn = KNeighborsClassifier(leaf_size=1,p=2,n_neighbors=28)\r\n",
        "knn.fit(X_train,y_train)\r\n",
        "score = knn.score(X_test,y_test)\r\n",
        "print(\"Accuracy = \",score)"
      ],
      "execution_count": 30,
      "outputs": [
        {
          "output_type": "stream",
          "text": [
            "Accuracy =  0.8026905829596412\n"
          ],
          "name": "stdout"
        }
      ]
    },
    {
      "cell_type": "markdown",
      "metadata": {
        "id": "qMe3EMoxcaiS"
      },
      "source": [
        "Final parameter"
      ]
    },
    {
      "cell_type": "code",
      "metadata": {
        "colab": {
          "base_uri": "https://localhost:8080/"
        },
        "id": "rWFcX_oGbt0W",
        "outputId": "d9244dba-8806-406b-995e-d4a74736f9ae"
      },
      "source": [
        "knn"
      ],
      "execution_count": 31,
      "outputs": [
        {
          "output_type": "execute_result",
          "data": {
            "text/plain": [
              "KNeighborsClassifier(algorithm='auto', leaf_size=1, metric='minkowski',\n",
              "                     metric_params=None, n_jobs=None, n_neighbors=28, p=2,\n",
              "                     weights='uniform')"
            ]
          },
          "metadata": {
            "tags": []
          },
          "execution_count": 31
        }
      ]
    },
    {
      "cell_type": "markdown",
      "metadata": {
        "id": "1IKbD1PaUGXq"
      },
      "source": [
        "# Summary\r\n",
        "Accuracy =  0.8026905829596412"
      ]
    }
  ]
}