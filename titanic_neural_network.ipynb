{
  "nbformat": 4,
  "nbformat_minor": 0,
  "metadata": {
    "colab": {
      "name": "titanic-neural_network.ipynb",
      "provenance": [],
      "collapsed_sections": [],
      "toc_visible": true
    },
    "kernelspec": {
      "name": "python3",
      "display_name": "Python 3"
    }
  },
  "cells": [
    {
      "cell_type": "code",
      "metadata": {
        "id": "GMX6042Q01Nr"
      },
      "source": [
        "import pandas  as pd\r\n",
        "import numpy as np\r\n",
        "np.random.seed(23)\r\n",
        "\r\n",
        "from sklearn.preprocessing import StandardScaler\r\n",
        "from sklearn.model_selection import train_test_split\r\n",
        "from sklearn.model_selection import GridSearchCV\r\n",
        "import matplotlib.pyplot as plt\r\n",
        "\r\n",
        "titanic_df = pd.read_csv('https://raw.githubusercontent.com/Kritsana135/Ml-Final/main/titanic.csv')"
      ],
      "execution_count": 214,
      "outputs": []
    },
    {
      "cell_type": "code",
      "metadata": {
        "colab": {
          "base_uri": "https://localhost:8080/"
        },
        "id": "SyMpuFjD8BA0",
        "outputId": "836950f9-449a-44a0-f043-86080db16e68"
      },
      "source": [
        "titanic_df.shape"
      ],
      "execution_count": 215,
      "outputs": [
        {
          "output_type": "execute_result",
          "data": {
            "text/plain": [
              "(891, 12)"
            ]
          },
          "metadata": {
            "tags": []
          },
          "execution_count": 215
        }
      ]
    },
    {
      "cell_type": "code",
      "metadata": {
        "colab": {
          "base_uri": "https://localhost:8080/",
          "height": 255
        },
        "id": "Jb7wUMIH3VV2",
        "outputId": "8f836b51-ba38-4c2d-e9fb-77d2804afd3f"
      },
      "source": [
        "titanic_df.head()"
      ],
      "execution_count": 216,
      "outputs": [
        {
          "output_type": "execute_result",
          "data": {
            "text/html": [
              "<div>\n",
              "<style scoped>\n",
              "    .dataframe tbody tr th:only-of-type {\n",
              "        vertical-align: middle;\n",
              "    }\n",
              "\n",
              "    .dataframe tbody tr th {\n",
              "        vertical-align: top;\n",
              "    }\n",
              "\n",
              "    .dataframe thead th {\n",
              "        text-align: right;\n",
              "    }\n",
              "</style>\n",
              "<table border=\"1\" class=\"dataframe\">\n",
              "  <thead>\n",
              "    <tr style=\"text-align: right;\">\n",
              "      <th></th>\n",
              "      <th>PassengerId</th>\n",
              "      <th>Survived</th>\n",
              "      <th>Pclass</th>\n",
              "      <th>Name</th>\n",
              "      <th>Sex</th>\n",
              "      <th>Age</th>\n",
              "      <th>SibSp</th>\n",
              "      <th>Parch</th>\n",
              "      <th>Ticket</th>\n",
              "      <th>Fare</th>\n",
              "      <th>Cabin</th>\n",
              "      <th>Embarked</th>\n",
              "    </tr>\n",
              "  </thead>\n",
              "  <tbody>\n",
              "    <tr>\n",
              "      <th>0</th>\n",
              "      <td>1</td>\n",
              "      <td>0</td>\n",
              "      <td>3</td>\n",
              "      <td>Braund, Mr. Owen Harris</td>\n",
              "      <td>male</td>\n",
              "      <td>22.0</td>\n",
              "      <td>1</td>\n",
              "      <td>0</td>\n",
              "      <td>A/5 21171</td>\n",
              "      <td>7.2500</td>\n",
              "      <td>NaN</td>\n",
              "      <td>S</td>\n",
              "    </tr>\n",
              "    <tr>\n",
              "      <th>1</th>\n",
              "      <td>2</td>\n",
              "      <td>1</td>\n",
              "      <td>1</td>\n",
              "      <td>Cumings, Mrs. John Bradley (Florence Briggs Th...</td>\n",
              "      <td>female</td>\n",
              "      <td>38.0</td>\n",
              "      <td>1</td>\n",
              "      <td>0</td>\n",
              "      <td>PC 17599</td>\n",
              "      <td>71.2833</td>\n",
              "      <td>C85</td>\n",
              "      <td>C</td>\n",
              "    </tr>\n",
              "    <tr>\n",
              "      <th>2</th>\n",
              "      <td>3</td>\n",
              "      <td>1</td>\n",
              "      <td>3</td>\n",
              "      <td>Heikkinen, Miss. Laina</td>\n",
              "      <td>female</td>\n",
              "      <td>26.0</td>\n",
              "      <td>0</td>\n",
              "      <td>0</td>\n",
              "      <td>STON/O2. 3101282</td>\n",
              "      <td>7.9250</td>\n",
              "      <td>NaN</td>\n",
              "      <td>S</td>\n",
              "    </tr>\n",
              "    <tr>\n",
              "      <th>3</th>\n",
              "      <td>4</td>\n",
              "      <td>1</td>\n",
              "      <td>1</td>\n",
              "      <td>Futrelle, Mrs. Jacques Heath (Lily May Peel)</td>\n",
              "      <td>female</td>\n",
              "      <td>35.0</td>\n",
              "      <td>1</td>\n",
              "      <td>0</td>\n",
              "      <td>113803</td>\n",
              "      <td>53.1000</td>\n",
              "      <td>C123</td>\n",
              "      <td>S</td>\n",
              "    </tr>\n",
              "    <tr>\n",
              "      <th>4</th>\n",
              "      <td>5</td>\n",
              "      <td>0</td>\n",
              "      <td>3</td>\n",
              "      <td>Allen, Mr. William Henry</td>\n",
              "      <td>male</td>\n",
              "      <td>35.0</td>\n",
              "      <td>0</td>\n",
              "      <td>0</td>\n",
              "      <td>373450</td>\n",
              "      <td>8.0500</td>\n",
              "      <td>NaN</td>\n",
              "      <td>S</td>\n",
              "    </tr>\n",
              "  </tbody>\n",
              "</table>\n",
              "</div>"
            ],
            "text/plain": [
              "   PassengerId  Survived  Pclass  ...     Fare Cabin  Embarked\n",
              "0            1         0       3  ...   7.2500   NaN         S\n",
              "1            2         1       1  ...  71.2833   C85         C\n",
              "2            3         1       3  ...   7.9250   NaN         S\n",
              "3            4         1       1  ...  53.1000  C123         S\n",
              "4            5         0       3  ...   8.0500   NaN         S\n",
              "\n",
              "[5 rows x 12 columns]"
            ]
          },
          "metadata": {
            "tags": []
          },
          "execution_count": 216
        }
      ]
    },
    {
      "cell_type": "markdown",
      "metadata": {
        "id": "x-D73-Dj1Ylf"
      },
      "source": [
        "# Data Exploration\r\n",
        "    ทำการตรวจสอบข้อมูลก่อนว่ามีลักษณะเป็นอย่างไร มี missing value หรือเปล่า \r\n",
        "    ซึ่งจากการตรวจสอบพบว่ามี Columns\r\n",
        "        - Cabin\r\n",
        "        - Embarked\r\n",
        "        - Age\r\n",
        "\r\n",
        "    มีสอง column ที่ไม่ใช่ตัวเลข คือ Sex และ Embarked"
      ]
    },
    {
      "cell_type": "code",
      "metadata": {
        "colab": {
          "base_uri": "https://localhost:8080/"
        },
        "id": "efQRYGhW14oG",
        "outputId": "e8971925-b2c1-42b3-e6fb-06145ba8b635"
      },
      "source": [
        "total = titanic_df.isnull().sum().sort_values(ascending=False)\r\n",
        "print(total)"
      ],
      "execution_count": 217,
      "outputs": [
        {
          "output_type": "stream",
          "text": [
            "Cabin          687\n",
            "Age            177\n",
            "Embarked         2\n",
            "Fare             0\n",
            "Ticket           0\n",
            "Parch            0\n",
            "SibSp            0\n",
            "Sex              0\n",
            "Name             0\n",
            "Pclass           0\n",
            "Survived         0\n",
            "PassengerId      0\n",
            "dtype: int64\n"
          ],
          "name": "stdout"
        }
      ]
    },
    {
      "cell_type": "markdown",
      "metadata": {
        "id": "HkRKakzK2ZKU"
      },
      "source": [
        "# Data Cleaning\r\n",
        "    จะทำการ ดรอปข้อมูลที่คิดว่าไม่เกี่ยวข้อง คือ ***PassengerId***, ***Name*** **Ticket** และ ***Cabin*** \r\n",
        "สำหรับ แอทริบิวต์ Cabin(ห้องโดยสาร) นั้นน่าจะมีความสอดคล้องกับแอทริบิวต์ Fare(ค่าโดยสาร) และเนื่องจาก Cabin มี missing value ที่มากเกินไปจึงเลือกใช้  แอทริบิวต์ Fare ซึ่งมี missing value น้อยกว่า"
      ]
    },
    {
      "cell_type": "code",
      "metadata": {
        "id": "hezdRv062bbB"
      },
      "source": [
        "drop_columns = ['Cabin', 'PassengerId', 'Ticket', 'Name']\r\n",
        "titanic_df = titanic_df.drop(drop_columns, axis=1)"
      ],
      "execution_count": 218,
      "outputs": []
    },
    {
      "cell_type": "markdown",
      "metadata": {
        "id": "MRJpPV015hv3"
      },
      "source": [
        "หลังจากนั้นเราจะเติม missing value ใน Columns ต่อไปนี้ ด้วยข้อมูลที่เหลืออยู่ในแต่ละ Column\r\n",
        "* Age ใช้ Mean เพราะข้อมูลเป็นแบบ Interval/Ratio (skewed เล็กน้อย)\r\n",
        "* Embarked ใช้ Mode เพราะข้อมูลเป็นแบบ Nominal"
      ]
    },
    {
      "cell_type": "code",
      "metadata": {
        "id": "SiGGhq9f5hWr"
      },
      "source": [
        "# Fill empty values in age column\r\n",
        "titanic_df['Age'].fillna(titanic_df['Age'].median(), inplace=True)\r\n",
        "# df_test['Age'].fillna(df_test['Age'].median(), inplace=True)\r\n",
        "\r\n",
        "# Fill empty data in embarked column\r\n",
        "titanic_df['Embarked'].fillna(titanic_df['Embarked'].mode()[0], inplace=True)\r\n",
        "# df_test['Embarked'].fillna(df_test['Embarked'].mode()[0], inplace=True)"
      ],
      "execution_count": 219,
      "outputs": []
    },
    {
      "cell_type": "markdown",
      "metadata": {
        "id": "6Jf2icit5tdw"
      },
      "source": [
        "เพื่อที่จะใช้ค่าที่ไม่ใช่ตัวเลขใน knn เราต้องแปลงมาเป็นตัวเลขก่อน"
      ]
    },
    {
      "cell_type": "code",
      "metadata": {
        "id": "S9M9tM4q5vGY",
        "colab": {
          "base_uri": "https://localhost:8080/",
          "height": 204
        },
        "outputId": "0ee38f88-cc55-4101-9eef-9f1a183f0b0f"
      },
      "source": [
        "# change non-numerical value to numerical values\r\n",
        "titanic_df['Sex'] = titanic_df['Sex'].map({'female': 0, 'male': 1}).astype(int)\r\n",
        "\r\n",
        "embarked_dummies = pd.get_dummies(titanic_df['Embarked'] ,prefix=\"E\")\r\n",
        "titanic_df = pd.concat([titanic_df, embarked_dummies], axis=1)\r\n",
        "\r\n",
        "#drop Embarked\r\n",
        "titanic_df = titanic_df.drop(['Embarked'], axis=1)\r\n",
        "\r\n",
        "titanic_df.head()"
      ],
      "execution_count": 220,
      "outputs": [
        {
          "output_type": "execute_result",
          "data": {
            "text/html": [
              "<div>\n",
              "<style scoped>\n",
              "    .dataframe tbody tr th:only-of-type {\n",
              "        vertical-align: middle;\n",
              "    }\n",
              "\n",
              "    .dataframe tbody tr th {\n",
              "        vertical-align: top;\n",
              "    }\n",
              "\n",
              "    .dataframe thead th {\n",
              "        text-align: right;\n",
              "    }\n",
              "</style>\n",
              "<table border=\"1\" class=\"dataframe\">\n",
              "  <thead>\n",
              "    <tr style=\"text-align: right;\">\n",
              "      <th></th>\n",
              "      <th>Survived</th>\n",
              "      <th>Pclass</th>\n",
              "      <th>Sex</th>\n",
              "      <th>Age</th>\n",
              "      <th>SibSp</th>\n",
              "      <th>Parch</th>\n",
              "      <th>Fare</th>\n",
              "      <th>E_C</th>\n",
              "      <th>E_Q</th>\n",
              "      <th>E_S</th>\n",
              "    </tr>\n",
              "  </thead>\n",
              "  <tbody>\n",
              "    <tr>\n",
              "      <th>0</th>\n",
              "      <td>0</td>\n",
              "      <td>3</td>\n",
              "      <td>1</td>\n",
              "      <td>22.0</td>\n",
              "      <td>1</td>\n",
              "      <td>0</td>\n",
              "      <td>7.2500</td>\n",
              "      <td>0</td>\n",
              "      <td>0</td>\n",
              "      <td>1</td>\n",
              "    </tr>\n",
              "    <tr>\n",
              "      <th>1</th>\n",
              "      <td>1</td>\n",
              "      <td>1</td>\n",
              "      <td>0</td>\n",
              "      <td>38.0</td>\n",
              "      <td>1</td>\n",
              "      <td>0</td>\n",
              "      <td>71.2833</td>\n",
              "      <td>1</td>\n",
              "      <td>0</td>\n",
              "      <td>0</td>\n",
              "    </tr>\n",
              "    <tr>\n",
              "      <th>2</th>\n",
              "      <td>1</td>\n",
              "      <td>3</td>\n",
              "      <td>0</td>\n",
              "      <td>26.0</td>\n",
              "      <td>0</td>\n",
              "      <td>0</td>\n",
              "      <td>7.9250</td>\n",
              "      <td>0</td>\n",
              "      <td>0</td>\n",
              "      <td>1</td>\n",
              "    </tr>\n",
              "    <tr>\n",
              "      <th>3</th>\n",
              "      <td>1</td>\n",
              "      <td>1</td>\n",
              "      <td>0</td>\n",
              "      <td>35.0</td>\n",
              "      <td>1</td>\n",
              "      <td>0</td>\n",
              "      <td>53.1000</td>\n",
              "      <td>0</td>\n",
              "      <td>0</td>\n",
              "      <td>1</td>\n",
              "    </tr>\n",
              "    <tr>\n",
              "      <th>4</th>\n",
              "      <td>0</td>\n",
              "      <td>3</td>\n",
              "      <td>1</td>\n",
              "      <td>35.0</td>\n",
              "      <td>0</td>\n",
              "      <td>0</td>\n",
              "      <td>8.0500</td>\n",
              "      <td>0</td>\n",
              "      <td>0</td>\n",
              "      <td>1</td>\n",
              "    </tr>\n",
              "  </tbody>\n",
              "</table>\n",
              "</div>"
            ],
            "text/plain": [
              "   Survived  Pclass  Sex   Age  SibSp  Parch     Fare  E_C  E_Q  E_S\n",
              "0         0       3    1  22.0      1      0   7.2500    0    0    1\n",
              "1         1       1    0  38.0      1      0  71.2833    1    0    0\n",
              "2         1       3    0  26.0      0      0   7.9250    0    0    1\n",
              "3         1       1    0  35.0      1      0  53.1000    0    0    1\n",
              "4         0       3    1  35.0      0      0   8.0500    0    0    1"
            ]
          },
          "metadata": {
            "tags": []
          },
          "execution_count": 220
        }
      ]
    },
    {
      "cell_type": "markdown",
      "metadata": {
        "id": "QnKm3nnVad3z"
      },
      "source": [
        "Scale Continuous Variables"
      ]
    },
    {
      "cell_type": "code",
      "metadata": {
        "id": "J8E-Ype5aeS5"
      },
      "source": [
        "from mlxtend.preprocessing import minmax_scaling\r\n",
        "from sklearn.preprocessing import StandardScaler\r\n",
        "def scale(X):\r\n",
        "  # Normalized Data\r\n",
        "  X_scaled = minmax_scaling(X, columns=X.columns)\r\n",
        "  X_normalized = pd.DataFrame(X_scaled)\r\n",
        "  scaler = StandardScaler()\r\n",
        "  X_normalized = scaler.fit_transform(X_normalized)\r\n",
        "  return X_normalized"
      ],
      "execution_count": 221,
      "outputs": []
    },
    {
      "cell_type": "markdown",
      "metadata": {
        "id": "tNkzCWsiMifW"
      },
      "source": [
        "Split Data"
      ]
    },
    {
      "cell_type": "code",
      "metadata": {
        "id": "7bI9ynng6RGG"
      },
      "source": [
        "#split data to train and test\r\n",
        "selected_feature = ['Pclass', 'Sex', 'Age', 'SibSp', 'Parch', 'Fare', 'E_C', 'E_Q', 'E_S']\r\n",
        "target = 'Survived'\r\n",
        "\r\n",
        "y = titanic_df[target]\r\n",
        "X = titanic_df[selected_feature]\r\n",
        "\r\n",
        "X_train, X_test, y_train, y_test = train_test_split(X, y, test_size=0.25,random_state=23)\r\n",
        "X_scale = scale(X)\r\n",
        "X_train_scale, X_test_scale, y_train, y_test = train_test_split(X_scale, y, test_size=0.25,random_state=23)\r\n"
      ],
      "execution_count": 222,
      "outputs": []
    },
    {
      "cell_type": "markdown",
      "metadata": {
        "id": "EtvjreOCN0wJ"
      },
      "source": [
        "Train && Test (Defalut parameter)"
      ]
    },
    {
      "cell_type": "code",
      "metadata": {
        "colab": {
          "base_uri": "https://localhost:8080/"
        },
        "id": "ZPLSMIXAePXv",
        "outputId": "37466500-a771-405a-9943-8c5a41e971bc"
      },
      "source": [
        "from sklearn.neural_network import MLPClassifier\r\n",
        "clf = MLPClassifier()\r\n",
        "clf.fit(X_train, y_train) \r\n",
        "print(\"Accuract with out sclae : \" ,clf.score(X_test, y_test))"
      ],
      "execution_count": 223,
      "outputs": [
        {
          "output_type": "stream",
          "text": [
            "Accuract with out sclae :  0.8026905829596412\n"
          ],
          "name": "stdout"
        }
      ]
    },
    {
      "cell_type": "code",
      "metadata": {
        "colab": {
          "base_uri": "https://localhost:8080/"
        },
        "id": "5uUyf-UJiegn",
        "outputId": "5378f1fd-f66d-4f26-e222-6fb9da6ad8c6"
      },
      "source": [
        "clf = MLPClassifier()\r\n",
        "clf.fit(X_train_scale, y_train) "
      ],
      "execution_count": 224,
      "outputs": [
        {
          "output_type": "stream",
          "text": [
            "/usr/local/lib/python3.6/dist-packages/sklearn/neural_network/_multilayer_perceptron.py:571: ConvergenceWarning: Stochastic Optimizer: Maximum iterations (200) reached and the optimization hasn't converged yet.\n",
            "  % self.max_iter, ConvergenceWarning)\n"
          ],
          "name": "stderr"
        },
        {
          "output_type": "execute_result",
          "data": {
            "text/plain": [
              "MLPClassifier(activation='relu', alpha=0.0001, batch_size='auto', beta_1=0.9,\n",
              "              beta_2=0.999, early_stopping=False, epsilon=1e-08,\n",
              "              hidden_layer_sizes=(100,), learning_rate='constant',\n",
              "              learning_rate_init=0.001, max_fun=15000, max_iter=200,\n",
              "              momentum=0.9, n_iter_no_change=10, nesterovs_momentum=True,\n",
              "              power_t=0.5, random_state=None, shuffle=True, solver='adam',\n",
              "              tol=0.0001, validation_fraction=0.1, verbose=False,\n",
              "              warm_start=False)"
            ]
          },
          "metadata": {
            "tags": []
          },
          "execution_count": 224
        }
      ]
    },
    {
      "cell_type": "code",
      "metadata": {
        "colab": {
          "base_uri": "https://localhost:8080/"
        },
        "id": "-vukRNjEmy13",
        "outputId": "891ff84c-31cd-46f5-f360-7fde8c2feed7"
      },
      "source": [
        "print(\"Accuract with  sclae : \" ,clf.score(X_test_scale, y_test))"
      ],
      "execution_count": 225,
      "outputs": [
        {
          "output_type": "stream",
          "text": [
            "Accuract with  sclae :  0.8161434977578476\n"
          ],
          "name": "stdout"
        }
      ]
    },
    {
      "cell_type": "code",
      "metadata": {
        "colab": {
          "base_uri": "https://localhost:8080/"
        },
        "id": "NJ08PaNNjUs2",
        "outputId": "bd8ae929-7f06-4905-fd3c-53ec47ccc41b"
      },
      "source": [
        "mlp_gs = MLPClassifier(max_iter=100)\r\n",
        "parameter_space = {\r\n",
        "    'hidden_layer_sizes': [(50,50,50), (50,100,50), (100,)],\r\n",
        "    'activation': ['relu', 'tanh', 'logistic'],\r\n",
        "    'solver': ['sgd', 'adam'],\r\n",
        "    'alpha': [0.0001, 0.05],\r\n",
        "    'learning_rate':['constant', 'invscaling', 'adaptive'],\r\n",
        "}\r\n",
        "from sklearn.model_selection import GridSearchCV\r\n",
        "clf = GridSearchCV(mlp_gs, parameter_space, n_jobs=-1, cv=3)\r\n",
        "clf.fit(X_train_scale, y_train) # X is train samples and y is the corresponding labels"
      ],
      "execution_count": 226,
      "outputs": [
        {
          "output_type": "stream",
          "text": [
            "/usr/local/lib/python3.6/dist-packages/sklearn/neural_network/_multilayer_perceptron.py:571: ConvergenceWarning: Stochastic Optimizer: Maximum iterations (100) reached and the optimization hasn't converged yet.\n",
            "  % self.max_iter, ConvergenceWarning)\n"
          ],
          "name": "stderr"
        },
        {
          "output_type": "execute_result",
          "data": {
            "text/plain": [
              "GridSearchCV(cv=3, error_score=nan,\n",
              "             estimator=MLPClassifier(activation='relu', alpha=0.0001,\n",
              "                                     batch_size='auto', beta_1=0.9,\n",
              "                                     beta_2=0.999, early_stopping=False,\n",
              "                                     epsilon=1e-08, hidden_layer_sizes=(100,),\n",
              "                                     learning_rate='constant',\n",
              "                                     learning_rate_init=0.001, max_fun=15000,\n",
              "                                     max_iter=100, momentum=0.9,\n",
              "                                     n_iter_no_change=10,\n",
              "                                     nesterovs_momentum=True, power_t=0.5,\n",
              "                                     random_state...\n",
              "                                     validation_fraction=0.1, verbose=False,\n",
              "                                     warm_start=False),\n",
              "             iid='deprecated', n_jobs=-1,\n",
              "             param_grid={'activation': ['relu', 'tanh', 'logistic'],\n",
              "                         'alpha': [0.0001, 0.05],\n",
              "                         'hidden_layer_sizes': [(50, 50, 50), (50, 100, 50),\n",
              "                                                (100,)],\n",
              "                         'learning_rate': ['constant', 'invscaling',\n",
              "                                           'adaptive'],\n",
              "                         'solver': ['sgd', 'adam']},\n",
              "             pre_dispatch='2*n_jobs', refit=True, return_train_score=False,\n",
              "             scoring=None, verbose=0)"
            ]
          },
          "metadata": {
            "tags": []
          },
          "execution_count": 226
        }
      ]
    },
    {
      "cell_type": "code",
      "metadata": {
        "colab": {
          "base_uri": "https://localhost:8080/"
        },
        "id": "IqE8mVHsjZFC",
        "outputId": "bc6fc518-6510-4bc1-8dbe-4b40b11d58f6"
      },
      "source": [
        "print('Best parameters found:\\n', clf.best_params_)"
      ],
      "execution_count": 227,
      "outputs": [
        {
          "output_type": "stream",
          "text": [
            "Best parameters found:\n",
            " {'activation': 'tanh', 'alpha': 0.0001, 'hidden_layer_sizes': (50, 50, 50), 'learning_rate': 'constant', 'solver': 'adam'}\n"
          ],
          "name": "stdout"
        }
      ]
    },
    {
      "cell_type": "code",
      "metadata": {
        "colab": {
          "base_uri": "https://localhost:8080/"
        },
        "id": "1kXxPlJzoYqN",
        "outputId": "325642d4-f56d-45f6-f24f-e38b33eabffa"
      },
      "source": [
        "from sklearn.metrics import confusion_matrix, classification_report\r\n",
        "from sklearn import metrics\r\n",
        "# Predict Output\r\n",
        "y_predict = clf.predict(X_test_scale)\r\n",
        "\r\n",
        "# Evolution Model\r\n",
        "print(\"\\nConfusion Matrix: \")\r\n",
        "print(confusion_matrix(y_test, y_predict))\r\n",
        "print(\"classification Report : \")\r\n",
        "print(classification_report(y_test, y_predict))\r\n",
        "print(\"Accuracy:\", metrics.accuracy_score(y_test, y_predict))\r\n"
      ],
      "execution_count": 228,
      "outputs": [
        {
          "output_type": "stream",
          "text": [
            "\n",
            "Confusion Matrix: \n",
            "[[132  13]\n",
            " [ 32  46]]\n",
            "classification Report : \n",
            "              precision    recall  f1-score   support\n",
            "\n",
            "           0       0.80      0.91      0.85       145\n",
            "           1       0.78      0.59      0.67        78\n",
            "\n",
            "    accuracy                           0.80       223\n",
            "   macro avg       0.79      0.75      0.76       223\n",
            "weighted avg       0.80      0.80      0.79       223\n",
            "\n",
            "Accuracy: 0.7982062780269058\n"
          ],
          "name": "stdout"
        }
      ]
    },
    {
      "cell_type": "markdown",
      "metadata": {
        "id": "AhiS01ZXmrcr"
      },
      "source": [
        "Best Accuracy\r\n",
        "\r\n",
        "Accuract with  sclae :  0.8161434977578476"
      ]
    }
  ]
}